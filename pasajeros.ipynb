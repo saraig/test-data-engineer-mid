{
 "cells": [
  {
   "cell_type": "code",
   "execution_count": 39,
   "id": "4347e579",
   "metadata": {},
   "outputs": [],
   "source": [
    "import requests\n",
    "import pandas as pd"
   ]
  },
  {
   "cell_type": "markdown",
   "id": "6b7d58d3",
   "metadata": {},
   "source": [
    "## <h1 style=\"color:orange\"> 1) Obtenciòn de datos </h1> "
   ]
  },
  {
   "cell_type": "code",
   "execution_count": 115,
   "id": "799ff272",
   "metadata": {},
   "outputs": [],
   "source": [
    "lista = ['3689da48-d557-5e5f-8347-006ced354939',\n",
    "         '2a323bb8-0a6d-5bd5-8366-90041c4f1c8c',\n",
    "        '2743ebad-f1e2-5eff-8c4d-f8c5191d1775',\n",
    "        'a6960833-d5a3-56dc-b125-da9e4e1fce69',\n",
    "        'fed214f3-332d-522c-97ac-da395a066dba']"
   ]
  },
  {
   "cell_type": "code",
   "execution_count": 114,
   "id": "c9ed8c6f",
   "metadata": {},
   "outputs": [],
   "source": [
    "dataframes = []"
   ]
  },
  {
   "cell_type": "code",
   "execution_count": 116,
   "id": "0b4a2788",
   "metadata": {},
   "outputs": [],
   "source": [
    "for i in lista:\n",
    "    url = f'https://analytics.deacero.com/api/teenus/get-data/{i}?format=json'\n",
    "    r = requests.get(url=url)\n",
    "    data = r.json()\n",
    "    dataframes.append(pd.DataFrame(data))\n",
    "    "
   ]
  },
  {
   "cell_type": "code",
   "execution_count": 43,
   "id": "619d8e74",
   "metadata": {
    "scrolled": true
   },
   "outputs": [
    {
     "data": {
      "text/html": [
       "<div>\n",
       "<style scoped>\n",
       "    .dataframe tbody tr th:only-of-type {\n",
       "        vertical-align: middle;\n",
       "    }\n",
       "\n",
       "    .dataframe tbody tr th {\n",
       "        vertical-align: top;\n",
       "    }\n",
       "\n",
       "    .dataframe thead th {\n",
       "        text-align: right;\n",
       "    }\n",
       "</style>\n",
       "<table border=\"1\" class=\"dataframe\">\n",
       "  <thead>\n",
       "    <tr style=\"text-align: right;\">\n",
       "      <th></th>\n",
       "      <th>ID_Pasajero</th>\n",
       "      <th>Pasajero</th>\n",
       "      <th>Edad</th>\n",
       "    </tr>\n",
       "  </thead>\n",
       "  <tbody>\n",
       "    <tr>\n",
       "      <th>0</th>\n",
       "      <td>576</td>\n",
       "      <td>Danielle Thompson</td>\n",
       "      <td>60</td>\n",
       "    </tr>\n",
       "    <tr>\n",
       "      <th>1</th>\n",
       "      <td>579</td>\n",
       "      <td>Natalie Cuevas</td>\n",
       "      <td>49</td>\n",
       "    </tr>\n",
       "    <tr>\n",
       "      <th>2</th>\n",
       "      <td>683</td>\n",
       "      <td>John Murray</td>\n",
       "      <td>28</td>\n",
       "    </tr>\n",
       "    <tr>\n",
       "      <th>3</th>\n",
       "      <td>681</td>\n",
       "      <td>Michael Jacobs</td>\n",
       "      <td>24</td>\n",
       "    </tr>\n",
       "    <tr>\n",
       "      <th>4</th>\n",
       "      <td>592</td>\n",
       "      <td>Brian Hunt</td>\n",
       "      <td>40</td>\n",
       "    </tr>\n",
       "  </tbody>\n",
       "</table>\n",
       "</div>"
      ],
      "text/plain": [
       "   ID_Pasajero           Pasajero  Edad\n",
       "0          576  Danielle Thompson    60\n",
       "1          579     Natalie Cuevas    49\n",
       "2          683        John Murray    28\n",
       "3          681     Michael Jacobs    24\n",
       "4          592         Brian Hunt    40"
      ]
     },
     "execution_count": 43,
     "metadata": {},
     "output_type": "execute_result"
    }
   ],
   "source": [
    "dataframes[0].head()"
   ]
  },
  {
   "cell_type": "code",
   "execution_count": 44,
   "id": "ea131a8c",
   "metadata": {},
   "outputs": [
    {
     "data": {
      "text/html": [
       "<div>\n",
       "<style scoped>\n",
       "    .dataframe tbody tr th:only-of-type {\n",
       "        vertical-align: middle;\n",
       "    }\n",
       "\n",
       "    .dataframe tbody tr th {\n",
       "        vertical-align: top;\n",
       "    }\n",
       "\n",
       "    .dataframe thead th {\n",
       "        text-align: right;\n",
       "    }\n",
       "</style>\n",
       "<table border=\"1\" class=\"dataframe\">\n",
       "  <thead>\n",
       "    <tr style=\"text-align: right;\">\n",
       "      <th></th>\n",
       "      <th>ID_Pasajero</th>\n",
       "      <th>Pasajero</th>\n",
       "      <th>Edad</th>\n",
       "    </tr>\n",
       "  </thead>\n",
       "  <tbody>\n",
       "    <tr>\n",
       "      <th>0</th>\n",
       "      <td>596</td>\n",
       "      <td>Javier Olson</td>\n",
       "      <td>71</td>\n",
       "    </tr>\n",
       "    <tr>\n",
       "      <th>1</th>\n",
       "      <td>625</td>\n",
       "      <td>Monique Ramirez</td>\n",
       "      <td>35</td>\n",
       "    </tr>\n",
       "    <tr>\n",
       "      <th>2</th>\n",
       "      <td>637</td>\n",
       "      <td>Rob Beeghly</td>\n",
       "      <td>29</td>\n",
       "    </tr>\n",
       "    <tr>\n",
       "      <th>3</th>\n",
       "      <td>730</td>\n",
       "      <td>Timothy Moore</td>\n",
       "      <td>21</td>\n",
       "    </tr>\n",
       "    <tr>\n",
       "      <th>4</th>\n",
       "      <td>682</td>\n",
       "      <td>Scot Wooten</td>\n",
       "      <td>72</td>\n",
       "    </tr>\n",
       "  </tbody>\n",
       "</table>\n",
       "</div>"
      ],
      "text/plain": [
       "   ID_Pasajero         Pasajero  Edad\n",
       "0          596     Javier Olson    71\n",
       "1          625  Monique Ramirez    35\n",
       "2          637      Rob Beeghly    29\n",
       "3          730    Timothy Moore    21\n",
       "4          682      Scot Wooten    72"
      ]
     },
     "execution_count": 44,
     "metadata": {},
     "output_type": "execute_result"
    }
   ],
   "source": [
    "dataframes[1].head()"
   ]
  },
  {
   "cell_type": "code",
   "execution_count": 45,
   "id": "5dd30d3b",
   "metadata": {},
   "outputs": [
    {
     "data": {
      "text/html": [
       "<div>\n",
       "<style scoped>\n",
       "    .dataframe tbody tr th:only-of-type {\n",
       "        vertical-align: middle;\n",
       "    }\n",
       "\n",
       "    .dataframe tbody tr th {\n",
       "        vertical-align: top;\n",
       "    }\n",
       "\n",
       "    .dataframe thead th {\n",
       "        text-align: right;\n",
       "    }\n",
       "</style>\n",
       "<table border=\"1\" class=\"dataframe\">\n",
       "  <thead>\n",
       "    <tr style=\"text-align: right;\">\n",
       "      <th></th>\n",
       "      <th>Cve_LA</th>\n",
       "      <th>Viaje</th>\n",
       "      <th>Clase</th>\n",
       "      <th>Precio</th>\n",
       "      <th>Ruta</th>\n",
       "      <th>Cve_Cliente</th>\n",
       "    </tr>\n",
       "  </thead>\n",
       "  <tbody>\n",
       "    <tr>\n",
       "      <th>0</th>\n",
       "      <td>SW</td>\n",
       "      <td>9/10/2016</td>\n",
       "      <td>Economy</td>\n",
       "      <td>60</td>\n",
       "      <td>DAL-MDW</td>\n",
       "      <td>553</td>\n",
       "    </tr>\n",
       "    <tr>\n",
       "      <th>1</th>\n",
       "      <td>AA</td>\n",
       "      <td>6/11/2016</td>\n",
       "      <td>Economy</td>\n",
       "      <td>150</td>\n",
       "      <td>DAL-SLC</td>\n",
       "      <td>554</td>\n",
       "    </tr>\n",
       "    <tr>\n",
       "      <th>2</th>\n",
       "      <td>DA</td>\n",
       "      <td>9/21/2016</td>\n",
       "      <td>Economy</td>\n",
       "      <td>68</td>\n",
       "      <td>DAL-AMA</td>\n",
       "      <td>554</td>\n",
       "    </tr>\n",
       "    <tr>\n",
       "      <th>3</th>\n",
       "      <td>UA</td>\n",
       "      <td>6/28/2016</td>\n",
       "      <td>Business</td>\n",
       "      <td>160</td>\n",
       "      <td>DAL-SLC</td>\n",
       "      <td>556</td>\n",
       "    </tr>\n",
       "    <tr>\n",
       "      <th>4</th>\n",
       "      <td>SW</td>\n",
       "      <td>6/25/2016</td>\n",
       "      <td>Economy</td>\n",
       "      <td>65</td>\n",
       "      <td>DAL-OKC</td>\n",
       "      <td>557</td>\n",
       "    </tr>\n",
       "  </tbody>\n",
       "</table>\n",
       "</div>"
      ],
      "text/plain": [
       "  Cve_LA      Viaje     Clase  Precio     Ruta  Cve_Cliente\n",
       "0     SW  9/10/2016   Economy      60  DAL-MDW          553\n",
       "1     AA  6/11/2016   Economy     150  DAL-SLC          554\n",
       "2     DA  9/21/2016   Economy      68  DAL-AMA          554\n",
       "3     UA  6/28/2016  Business     160  DAL-SLC          556\n",
       "4     SW  6/25/2016   Economy      65  DAL-OKC          557"
      ]
     },
     "execution_count": 45,
     "metadata": {},
     "output_type": "execute_result"
    }
   ],
   "source": [
    "dataframes[2].head()"
   ]
  },
  {
   "cell_type": "code",
   "execution_count": 46,
   "id": "e249a6d0",
   "metadata": {},
   "outputs": [
    {
     "data": {
      "text/html": [
       "<div>\n",
       "<style scoped>\n",
       "    .dataframe tbody tr th:only-of-type {\n",
       "        vertical-align: middle;\n",
       "    }\n",
       "\n",
       "    .dataframe tbody tr th {\n",
       "        vertical-align: top;\n",
       "    }\n",
       "\n",
       "    .dataframe thead th {\n",
       "        text-align: right;\n",
       "    }\n",
       "</style>\n",
       "<table border=\"1\" class=\"dataframe\">\n",
       "  <thead>\n",
       "    <tr style=\"text-align: right;\">\n",
       "      <th></th>\n",
       "      <th>Cve_LA</th>\n",
       "      <th>Viaje</th>\n",
       "      <th>Clase</th>\n",
       "      <th>Precio</th>\n",
       "      <th>Ruta</th>\n",
       "      <th>Cve_Cliente</th>\n",
       "    </tr>\n",
       "  </thead>\n",
       "  <tbody>\n",
       "    <tr>\n",
       "      <th>0</th>\n",
       "      <td>SW</td>\n",
       "      <td>1/4/2017</td>\n",
       "      <td>Economy</td>\n",
       "      <td>86</td>\n",
       "      <td>DAL-ATL</td>\n",
       "      <td>637</td>\n",
       "    </tr>\n",
       "    <tr>\n",
       "      <th>1</th>\n",
       "      <td>SW</td>\n",
       "      <td>1/4/2017</td>\n",
       "      <td>First Class</td>\n",
       "      <td>237</td>\n",
       "      <td>DAL-ATL</td>\n",
       "      <td>402</td>\n",
       "    </tr>\n",
       "    <tr>\n",
       "      <th>2</th>\n",
       "      <td>SW</td>\n",
       "      <td>1/2/2017</td>\n",
       "      <td>Economy</td>\n",
       "      <td>62</td>\n",
       "      <td>DAL-LGA</td>\n",
       "      <td>191</td>\n",
       "    </tr>\n",
       "    <tr>\n",
       "      <th>3</th>\n",
       "      <td>SW</td>\n",
       "      <td>1/2/2017</td>\n",
       "      <td>Economy</td>\n",
       "      <td>81</td>\n",
       "      <td>DAL-MDW</td>\n",
       "      <td>191</td>\n",
       "    </tr>\n",
       "    <tr>\n",
       "      <th>4</th>\n",
       "      <td>AA</td>\n",
       "      <td>1/4/2017</td>\n",
       "      <td>Business</td>\n",
       "      <td>169</td>\n",
       "      <td>DAL-LGA</td>\n",
       "      <td>637</td>\n",
       "    </tr>\n",
       "  </tbody>\n",
       "</table>\n",
       "</div>"
      ],
      "text/plain": [
       "  Cve_LA     Viaje        Clase  Precio     Ruta  Cve_Cliente\n",
       "0     SW  1/4/2017      Economy      86  DAL-ATL          637\n",
       "1     SW  1/4/2017  First Class     237  DAL-ATL          402\n",
       "2     SW  1/2/2017      Economy      62  DAL-LGA          191\n",
       "3     SW  1/2/2017      Economy      81  DAL-MDW          191\n",
       "4     AA  1/4/2017     Business     169  DAL-LGA          637"
      ]
     },
     "execution_count": 46,
     "metadata": {},
     "output_type": "execute_result"
    }
   ],
   "source": [
    "dataframes[3].head()"
   ]
  },
  {
   "cell_type": "code",
   "execution_count": 47,
   "id": "00a81824",
   "metadata": {},
   "outputs": [
    {
     "data": {
      "text/html": [
       "<div>\n",
       "<style scoped>\n",
       "    .dataframe tbody tr th:only-of-type {\n",
       "        vertical-align: middle;\n",
       "    }\n",
       "\n",
       "    .dataframe tbody tr th {\n",
       "        vertical-align: top;\n",
       "    }\n",
       "\n",
       "    .dataframe thead th {\n",
       "        text-align: right;\n",
       "    }\n",
       "</style>\n",
       "<table border=\"1\" class=\"dataframe\">\n",
       "  <thead>\n",
       "    <tr style=\"text-align: right;\">\n",
       "      <th></th>\n",
       "      <th>Code</th>\n",
       "      <th>Linea_Aerea</th>\n",
       "    </tr>\n",
       "  </thead>\n",
       "  <tbody>\n",
       "    <tr>\n",
       "      <th>0</th>\n",
       "      <td>AA</td>\n",
       "      <td>American Airlines</td>\n",
       "    </tr>\n",
       "    <tr>\n",
       "      <th>1</th>\n",
       "      <td>SW</td>\n",
       "      <td>Southwest</td>\n",
       "    </tr>\n",
       "    <tr>\n",
       "      <th>2</th>\n",
       "      <td>AM</td>\n",
       "      <td>Aeromexico</td>\n",
       "    </tr>\n",
       "    <tr>\n",
       "      <th>3</th>\n",
       "      <td>AV</td>\n",
       "      <td>Avianca</td>\n",
       "    </tr>\n",
       "    <tr>\n",
       "      <th>4</th>\n",
       "      <td>KL</td>\n",
       "      <td>KLM</td>\n",
       "    </tr>\n",
       "  </tbody>\n",
       "</table>\n",
       "</div>"
      ],
      "text/plain": [
       "  Code        Linea_Aerea\n",
       "0   AA  American Airlines\n",
       "1   SW          Southwest\n",
       "2   AM         Aeromexico\n",
       "3   AV            Avianca\n",
       "4   KL                KLM"
      ]
     },
     "execution_count": 47,
     "metadata": {},
     "output_type": "execute_result"
    }
   ],
   "source": [
    "dataframes[4].head()"
   ]
  },
  {
   "cell_type": "markdown",
   "id": "e9a5638c",
   "metadata": {},
   "source": [
    "## <h1 style=\"color:orange\"> 2 Uniòn de las tablas </h1> "
   ]
  },
  {
   "cell_type": "code",
   "execution_count": 174,
   "id": "570d9c4c",
   "metadata": {},
   "outputs": [],
   "source": [
    "pasajeros = pd.concat([dataframes[0], dataframes[1]])"
   ]
  },
  {
   "cell_type": "code",
   "execution_count": 175,
   "id": "2df6258d",
   "metadata": {},
   "outputs": [],
   "source": [
    "vuelos = pd.concat([dataframes[2], dataframes[3]])"
   ]
  },
  {
   "cell_type": "code",
   "execution_count": 118,
   "id": "434fec21",
   "metadata": {},
   "outputs": [
    {
     "data": {
      "text/html": [
       "<div>\n",
       "<style scoped>\n",
       "    .dataframe tbody tr th:only-of-type {\n",
       "        vertical-align: middle;\n",
       "    }\n",
       "\n",
       "    .dataframe tbody tr th {\n",
       "        vertical-align: top;\n",
       "    }\n",
       "\n",
       "    .dataframe thead th {\n",
       "        text-align: right;\n",
       "    }\n",
       "</style>\n",
       "<table border=\"1\" class=\"dataframe\">\n",
       "  <thead>\n",
       "    <tr style=\"text-align: right;\">\n",
       "      <th></th>\n",
       "      <th>ID_Pasajero</th>\n",
       "      <th>Pasajero</th>\n",
       "      <th>Edad</th>\n",
       "    </tr>\n",
       "  </thead>\n",
       "  <tbody>\n",
       "    <tr>\n",
       "      <th>0</th>\n",
       "      <td>576</td>\n",
       "      <td>Danielle Thompson</td>\n",
       "      <td>60</td>\n",
       "    </tr>\n",
       "    <tr>\n",
       "      <th>1</th>\n",
       "      <td>579</td>\n",
       "      <td>Natalie Cuevas</td>\n",
       "      <td>49</td>\n",
       "    </tr>\n",
       "    <tr>\n",
       "      <th>2</th>\n",
       "      <td>683</td>\n",
       "      <td>John Murray</td>\n",
       "      <td>28</td>\n",
       "    </tr>\n",
       "    <tr>\n",
       "      <th>3</th>\n",
       "      <td>681</td>\n",
       "      <td>Michael Jacobs</td>\n",
       "      <td>24</td>\n",
       "    </tr>\n",
       "    <tr>\n",
       "      <th>4</th>\n",
       "      <td>592</td>\n",
       "      <td>Brian Hunt</td>\n",
       "      <td>40</td>\n",
       "    </tr>\n",
       "  </tbody>\n",
       "</table>\n",
       "</div>"
      ],
      "text/plain": [
       "   ID_Pasajero           Pasajero  Edad\n",
       "0          576  Danielle Thompson    60\n",
       "1          579     Natalie Cuevas    49\n",
       "2          683        John Murray    28\n",
       "3          681     Michael Jacobs    24\n",
       "4          592         Brian Hunt    40"
      ]
     },
     "execution_count": 118,
     "metadata": {},
     "output_type": "execute_result"
    }
   ],
   "source": [
    "pasajeros.head()"
   ]
  },
  {
   "cell_type": "markdown",
   "id": "6369a491",
   "metadata": {},
   "source": [
    "## Vamos a revisar la calidad de los datos:"
   ]
  },
  {
   "cell_type": "code",
   "execution_count": 176,
   "id": "17bf92b3",
   "metadata": {},
   "outputs": [],
   "source": [
    "def dup(df):\n",
    "    dup = df.duplicated().sum()\n",
    "    if(dup==0):\n",
    "        print(\"los datos no tienen duplicados\")\n",
    "    else:\n",
    "        print(\"la cantidad de duplicados es:\", dup)\n",
    "        if(dup/len(df)>.20):\n",
    "            print(\"màs del 20% de los datos estàn duplicados\")\n",
    "            df.drop_duplicates(inplace=True)\n",
    "            df.reset_index(drop=True,inplace=True)\n",
    "            dup = df.duplicated().sum()\n",
    "            print(\"la nueva cantidad de duplicados es:\", dup)"
   ]
  },
  {
   "cell_type": "code",
   "execution_count": 177,
   "id": "3609a399",
   "metadata": {},
   "outputs": [
    {
     "name": "stdout",
     "output_type": "stream",
     "text": [
      "la cantidad de duplicados es: 62\n",
      "màs del 20% de los datos estàn duplicados\n",
      "la nueva cantidad de duplicados es: 0\n"
     ]
    }
   ],
   "source": [
    "dup(pasajeros)"
   ]
  },
  {
   "cell_type": "markdown",
   "id": "9e394031",
   "metadata": {},
   "source": [
    "La cantidad de duplicados representa màs del 20% de los datos, por lo cual, personalmente verìa de nuevo la finalidad del anàlisis para decidir si aùn asì son suficientes datos o hay que recolectar màs."
   ]
  },
  {
   "cell_type": "code",
   "execution_count": 178,
   "id": "c9102cc6",
   "metadata": {},
   "outputs": [
    {
     "data": {
      "text/plain": [
       "138"
      ]
     },
     "execution_count": 178,
     "metadata": {},
     "output_type": "execute_result"
    }
   ],
   "source": [
    "len(pasajeros)"
   ]
  },
  {
   "cell_type": "code",
   "execution_count": 179,
   "id": "ab9751cb",
   "metadata": {},
   "outputs": [
    {
     "name": "stdout",
     "output_type": "stream",
     "text": [
      "los datos no tienen duplicados\n"
     ]
    }
   ],
   "source": [
    "dup(vuelos)"
   ]
  },
  {
   "cell_type": "code",
   "execution_count": 180,
   "id": "1f308d6a",
   "metadata": {},
   "outputs": [
    {
     "data": {
      "text/html": [
       "<div>\n",
       "<style scoped>\n",
       "    .dataframe tbody tr th:only-of-type {\n",
       "        vertical-align: middle;\n",
       "    }\n",
       "\n",
       "    .dataframe tbody tr th {\n",
       "        vertical-align: top;\n",
       "    }\n",
       "\n",
       "    .dataframe thead th {\n",
       "        text-align: right;\n",
       "    }\n",
       "</style>\n",
       "<table border=\"1\" class=\"dataframe\">\n",
       "  <thead>\n",
       "    <tr style=\"text-align: right;\">\n",
       "      <th></th>\n",
       "      <th>ID_Pasajero</th>\n",
       "      <th>Pasajero</th>\n",
       "      <th>Edad</th>\n",
       "    </tr>\n",
       "  </thead>\n",
       "  <tbody>\n",
       "    <tr>\n",
       "      <th>0</th>\n",
       "      <td>576</td>\n",
       "      <td>Danielle Thompson</td>\n",
       "      <td>60</td>\n",
       "    </tr>\n",
       "    <tr>\n",
       "      <th>1</th>\n",
       "      <td>579</td>\n",
       "      <td>Natalie Cuevas</td>\n",
       "      <td>49</td>\n",
       "    </tr>\n",
       "    <tr>\n",
       "      <th>2</th>\n",
       "      <td>683</td>\n",
       "      <td>John Murray</td>\n",
       "      <td>28</td>\n",
       "    </tr>\n",
       "    <tr>\n",
       "      <th>3</th>\n",
       "      <td>681</td>\n",
       "      <td>Michael Jacobs</td>\n",
       "      <td>24</td>\n",
       "    </tr>\n",
       "    <tr>\n",
       "      <th>4</th>\n",
       "      <td>592</td>\n",
       "      <td>Brian Hunt</td>\n",
       "      <td>40</td>\n",
       "    </tr>\n",
       "  </tbody>\n",
       "</table>\n",
       "</div>"
      ],
      "text/plain": [
       "   ID_Pasajero           Pasajero  Edad\n",
       "0          576  Danielle Thompson    60\n",
       "1          579     Natalie Cuevas    49\n",
       "2          683        John Murray    28\n",
       "3          681     Michael Jacobs    24\n",
       "4          592         Brian Hunt    40"
      ]
     },
     "execution_count": 180,
     "metadata": {},
     "output_type": "execute_result"
    }
   ],
   "source": [
    "pasajeros.head()"
   ]
  },
  {
   "cell_type": "code",
   "execution_count": 181,
   "id": "571bd759",
   "metadata": {},
   "outputs": [
    {
     "data": {
      "text/plain": [
       "5"
      ]
     },
     "execution_count": 181,
     "metadata": {},
     "output_type": "execute_result"
    }
   ],
   "source": [
    "pasajeros[\"ID_Pasajero\"].duplicated().sum()"
   ]
  },
  {
   "cell_type": "markdown",
   "id": "96f948e1",
   "metadata": {},
   "source": [
    "Tenemos 5 id repetidos, vamos a ver cuàntos registros son:"
   ]
  },
  {
   "cell_type": "code",
   "execution_count": 182,
   "id": "fdd9324a",
   "metadata": {},
   "outputs": [
    {
     "data": {
      "text/plain": [
       "[582, 570, 717, 742, 562]"
      ]
     },
     "execution_count": 182,
     "metadata": {},
     "output_type": "execute_result"
    }
   ],
   "source": [
    "id_dup = list(pasajeros[pasajeros[\"ID_Pasajero\"].duplicated()][\"ID_Pasajero\"])\n",
    "id_dup"
   ]
  },
  {
   "cell_type": "code",
   "execution_count": 183,
   "id": "af34c237",
   "metadata": {},
   "outputs": [],
   "source": [
    "k = 0\n",
    "for i in range(len(pasajeros)):\n",
    "    if(pasajeros[\"ID_Pasajero\"][i] in id_dup):\n",
    "        k = k + 1\n"
   ]
  },
  {
   "cell_type": "code",
   "execution_count": 187,
   "id": "b97fe422",
   "metadata": {},
   "outputs": [
    {
     "data": {
      "text/plain": [
       "128"
      ]
     },
     "execution_count": 187,
     "metadata": {},
     "output_type": "execute_result"
    }
   ],
   "source": [
    "len(pasajeros)"
   ]
  },
  {
   "cell_type": "code",
   "execution_count": 185,
   "id": "ad065e6a",
   "metadata": {},
   "outputs": [],
   "source": [
    "for i in id_dup:\n",
    "    pasajeros.drop(pasajeros.loc[pasajeros[\"ID_Pasajero\"]==i].index, inplace = True )"
   ]
  },
  {
   "cell_type": "code",
   "execution_count": 186,
   "id": "8ce3b502",
   "metadata": {},
   "outputs": [],
   "source": [
    "def completitud(df):\n",
    "    comple=pd.DataFrame(df.isnull().sum())\n",
    "    comple.reset_index(inplace=True)\n",
    "    comple=comple.rename(columns={\"index\":\"columna\",0:\"total\"})\n",
    "    comple[\"completitud\"]=(1-comple[\"total\"]/df.shape[0])*100\n",
    "    comple=comple.sort_values(by=\"completitud\",ascending=True)\n",
    "    comple.reset_index(drop=True,inplace=True)\n",
    "    return comple"
   ]
  },
  {
   "cell_type": "code",
   "execution_count": 188,
   "id": "125386da",
   "metadata": {},
   "outputs": [
    {
     "data": {
      "text/html": [
       "<div>\n",
       "<style scoped>\n",
       "    .dataframe tbody tr th:only-of-type {\n",
       "        vertical-align: middle;\n",
       "    }\n",
       "\n",
       "    .dataframe tbody tr th {\n",
       "        vertical-align: top;\n",
       "    }\n",
       "\n",
       "    .dataframe thead th {\n",
       "        text-align: right;\n",
       "    }\n",
       "</style>\n",
       "<table border=\"1\" class=\"dataframe\">\n",
       "  <thead>\n",
       "    <tr style=\"text-align: right;\">\n",
       "      <th></th>\n",
       "      <th>columna</th>\n",
       "      <th>total</th>\n",
       "      <th>completitud</th>\n",
       "    </tr>\n",
       "  </thead>\n",
       "  <tbody>\n",
       "    <tr>\n",
       "      <th>0</th>\n",
       "      <td>ID_Pasajero</td>\n",
       "      <td>0</td>\n",
       "      <td>100.0</td>\n",
       "    </tr>\n",
       "    <tr>\n",
       "      <th>1</th>\n",
       "      <td>Pasajero</td>\n",
       "      <td>0</td>\n",
       "      <td>100.0</td>\n",
       "    </tr>\n",
       "    <tr>\n",
       "      <th>2</th>\n",
       "      <td>Edad</td>\n",
       "      <td>0</td>\n",
       "      <td>100.0</td>\n",
       "    </tr>\n",
       "  </tbody>\n",
       "</table>\n",
       "</div>"
      ],
      "text/plain": [
       "       columna  total  completitud\n",
       "0  ID_Pasajero      0        100.0\n",
       "1     Pasajero      0        100.0\n",
       "2         Edad      0        100.0"
      ]
     },
     "execution_count": 188,
     "metadata": {},
     "output_type": "execute_result"
    }
   ],
   "source": [
    "completitud(pasajeros)"
   ]
  },
  {
   "cell_type": "code",
   "execution_count": 189,
   "id": "217b50e5",
   "metadata": {},
   "outputs": [
    {
     "data": {
      "text/html": [
       "<div>\n",
       "<style scoped>\n",
       "    .dataframe tbody tr th:only-of-type {\n",
       "        vertical-align: middle;\n",
       "    }\n",
       "\n",
       "    .dataframe tbody tr th {\n",
       "        vertical-align: top;\n",
       "    }\n",
       "\n",
       "    .dataframe thead th {\n",
       "        text-align: right;\n",
       "    }\n",
       "</style>\n",
       "<table border=\"1\" class=\"dataframe\">\n",
       "  <thead>\n",
       "    <tr style=\"text-align: right;\">\n",
       "      <th></th>\n",
       "      <th>columna</th>\n",
       "      <th>total</th>\n",
       "      <th>completitud</th>\n",
       "    </tr>\n",
       "  </thead>\n",
       "  <tbody>\n",
       "    <tr>\n",
       "      <th>0</th>\n",
       "      <td>Cve_LA</td>\n",
       "      <td>0</td>\n",
       "      <td>100.0</td>\n",
       "    </tr>\n",
       "    <tr>\n",
       "      <th>1</th>\n",
       "      <td>Viaje</td>\n",
       "      <td>0</td>\n",
       "      <td>100.0</td>\n",
       "    </tr>\n",
       "    <tr>\n",
       "      <th>2</th>\n",
       "      <td>Clase</td>\n",
       "      <td>0</td>\n",
       "      <td>100.0</td>\n",
       "    </tr>\n",
       "    <tr>\n",
       "      <th>3</th>\n",
       "      <td>Precio</td>\n",
       "      <td>0</td>\n",
       "      <td>100.0</td>\n",
       "    </tr>\n",
       "    <tr>\n",
       "      <th>4</th>\n",
       "      <td>Ruta</td>\n",
       "      <td>0</td>\n",
       "      <td>100.0</td>\n",
       "    </tr>\n",
       "    <tr>\n",
       "      <th>5</th>\n",
       "      <td>Cve_Cliente</td>\n",
       "      <td>0</td>\n",
       "      <td>100.0</td>\n",
       "    </tr>\n",
       "  </tbody>\n",
       "</table>\n",
       "</div>"
      ],
      "text/plain": [
       "       columna  total  completitud\n",
       "0       Cve_LA      0        100.0\n",
       "1        Viaje      0        100.0\n",
       "2        Clase      0        100.0\n",
       "3       Precio      0        100.0\n",
       "4         Ruta      0        100.0\n",
       "5  Cve_Cliente      0        100.0"
      ]
     },
     "execution_count": 189,
     "metadata": {},
     "output_type": "execute_result"
    }
   ],
   "source": [
    "completitud(vuelos)"
   ]
  },
  {
   "cell_type": "code",
   "execution_count": 190,
   "id": "b60aa172",
   "metadata": {},
   "outputs": [
    {
     "data": {
      "text/html": [
       "<div>\n",
       "<style scoped>\n",
       "    .dataframe tbody tr th:only-of-type {\n",
       "        vertical-align: middle;\n",
       "    }\n",
       "\n",
       "    .dataframe tbody tr th {\n",
       "        vertical-align: top;\n",
       "    }\n",
       "\n",
       "    .dataframe thead th {\n",
       "        text-align: right;\n",
       "    }\n",
       "</style>\n",
       "<table border=\"1\" class=\"dataframe\">\n",
       "  <thead>\n",
       "    <tr style=\"text-align: right;\">\n",
       "      <th></th>\n",
       "      <th>Cve_LA</th>\n",
       "      <th>Viaje</th>\n",
       "      <th>Clase</th>\n",
       "      <th>Precio</th>\n",
       "      <th>Ruta</th>\n",
       "      <th>Cve_Cliente</th>\n",
       "    </tr>\n",
       "  </thead>\n",
       "  <tbody>\n",
       "    <tr>\n",
       "      <th>0</th>\n",
       "      <td>SW</td>\n",
       "      <td>9/10/2016</td>\n",
       "      <td>Economy</td>\n",
       "      <td>60</td>\n",
       "      <td>DAL-MDW</td>\n",
       "      <td>553</td>\n",
       "    </tr>\n",
       "    <tr>\n",
       "      <th>1</th>\n",
       "      <td>AA</td>\n",
       "      <td>6/11/2016</td>\n",
       "      <td>Economy</td>\n",
       "      <td>150</td>\n",
       "      <td>DAL-SLC</td>\n",
       "      <td>554</td>\n",
       "    </tr>\n",
       "    <tr>\n",
       "      <th>2</th>\n",
       "      <td>DA</td>\n",
       "      <td>9/21/2016</td>\n",
       "      <td>Economy</td>\n",
       "      <td>68</td>\n",
       "      <td>DAL-AMA</td>\n",
       "      <td>554</td>\n",
       "    </tr>\n",
       "    <tr>\n",
       "      <th>3</th>\n",
       "      <td>UA</td>\n",
       "      <td>6/28/2016</td>\n",
       "      <td>Business</td>\n",
       "      <td>160</td>\n",
       "      <td>DAL-SLC</td>\n",
       "      <td>556</td>\n",
       "    </tr>\n",
       "    <tr>\n",
       "      <th>4</th>\n",
       "      <td>SW</td>\n",
       "      <td>6/25/2016</td>\n",
       "      <td>Economy</td>\n",
       "      <td>65</td>\n",
       "      <td>DAL-OKC</td>\n",
       "      <td>557</td>\n",
       "    </tr>\n",
       "  </tbody>\n",
       "</table>\n",
       "</div>"
      ],
      "text/plain": [
       "  Cve_LA      Viaje     Clase  Precio     Ruta  Cve_Cliente\n",
       "0     SW  9/10/2016   Economy      60  DAL-MDW          553\n",
       "1     AA  6/11/2016   Economy     150  DAL-SLC          554\n",
       "2     DA  9/21/2016   Economy      68  DAL-AMA          554\n",
       "3     UA  6/28/2016  Business     160  DAL-SLC          556\n",
       "4     SW  6/25/2016   Economy      65  DAL-OKC          557"
      ]
     },
     "execution_count": 190,
     "metadata": {},
     "output_type": "execute_result"
    }
   ],
   "source": [
    "vuelos.head()"
   ]
  },
  {
   "cell_type": "markdown",
   "id": "842b2255",
   "metadata": {},
   "source": [
    "### Todos los vuelos estàn completos"
   ]
  },
  {
   "cell_type": "code",
   "execution_count": 191,
   "id": "e0f1ac29",
   "metadata": {},
   "outputs": [
    {
     "data": {
      "text/html": [
       "<div>\n",
       "<style scoped>\n",
       "    .dataframe tbody tr th:only-of-type {\n",
       "        vertical-align: middle;\n",
       "    }\n",
       "\n",
       "    .dataframe tbody tr th {\n",
       "        vertical-align: top;\n",
       "    }\n",
       "\n",
       "    .dataframe thead th {\n",
       "        text-align: right;\n",
       "    }\n",
       "</style>\n",
       "<table border=\"1\" class=\"dataframe\">\n",
       "  <thead>\n",
       "    <tr style=\"text-align: right;\">\n",
       "      <th></th>\n",
       "      <th>Cve_LA</th>\n",
       "      <th>Viaje</th>\n",
       "      <th>Clase</th>\n",
       "      <th>Precio</th>\n",
       "      <th>Ruta</th>\n",
       "      <th>Cve_Cliente</th>\n",
       "    </tr>\n",
       "  </thead>\n",
       "  <tbody>\n",
       "    <tr>\n",
       "      <th>0</th>\n",
       "      <td>SW</td>\n",
       "      <td>9/10/2016</td>\n",
       "      <td>Economy</td>\n",
       "      <td>60</td>\n",
       "      <td>DAL-MDW</td>\n",
       "      <td>553</td>\n",
       "    </tr>\n",
       "    <tr>\n",
       "      <th>1</th>\n",
       "      <td>AA</td>\n",
       "      <td>6/11/2016</td>\n",
       "      <td>Economy</td>\n",
       "      <td>150</td>\n",
       "      <td>DAL-SLC</td>\n",
       "      <td>554</td>\n",
       "    </tr>\n",
       "    <tr>\n",
       "      <th>2</th>\n",
       "      <td>DA</td>\n",
       "      <td>9/21/2016</td>\n",
       "      <td>Economy</td>\n",
       "      <td>68</td>\n",
       "      <td>DAL-AMA</td>\n",
       "      <td>554</td>\n",
       "    </tr>\n",
       "    <tr>\n",
       "      <th>3</th>\n",
       "      <td>UA</td>\n",
       "      <td>6/28/2016</td>\n",
       "      <td>Business</td>\n",
       "      <td>160</td>\n",
       "      <td>DAL-SLC</td>\n",
       "      <td>556</td>\n",
       "    </tr>\n",
       "    <tr>\n",
       "      <th>4</th>\n",
       "      <td>SW</td>\n",
       "      <td>6/25/2016</td>\n",
       "      <td>Economy</td>\n",
       "      <td>65</td>\n",
       "      <td>DAL-OKC</td>\n",
       "      <td>557</td>\n",
       "    </tr>\n",
       "  </tbody>\n",
       "</table>\n",
       "</div>"
      ],
      "text/plain": [
       "  Cve_LA      Viaje     Clase  Precio     Ruta  Cve_Cliente\n",
       "0     SW  9/10/2016   Economy      60  DAL-MDW          553\n",
       "1     AA  6/11/2016   Economy     150  DAL-SLC          554\n",
       "2     DA  9/21/2016   Economy      68  DAL-AMA          554\n",
       "3     UA  6/28/2016  Business     160  DAL-SLC          556\n",
       "4     SW  6/25/2016   Economy      65  DAL-OKC          557"
      ]
     },
     "execution_count": 191,
     "metadata": {},
     "output_type": "execute_result"
    }
   ],
   "source": [
    "vuelos.head()"
   ]
  },
  {
   "cell_type": "code",
   "execution_count": 192,
   "id": "83ed59b6",
   "metadata": {},
   "outputs": [
    {
     "data": {
      "text/plain": [
       "400"
      ]
     },
     "execution_count": 192,
     "metadata": {},
     "output_type": "execute_result"
    }
   ],
   "source": [
    "len(vuelos)"
   ]
  },
  {
   "cell_type": "markdown",
   "id": "f58b2f4a",
   "metadata": {},
   "source": [
    "## <h1 style=\"color:orange\"> 3 y 4) Relacionar tablas  </h1> "
   ]
  },
  {
   "cell_type": "markdown",
   "id": "1563dfed",
   "metadata": {},
   "source": [
    "Vamos a usar la columna de Cve_Cliente y la columna de ID_Pasajero para relacionar las tablas de vuelos y pasajeros y saber què vuelo tomò cada pasajero, posteriormente vamos a unir la tabla de lìneas aereas para saber en què lìnea viajò cada pasajero, vamos a usar inner, porque eliminamos los registros con id duplicados en la tabla pasajeros, por lo tanto, el inner es para tener todos los campos completos"
   ]
  },
  {
   "cell_type": "code",
   "execution_count": 232,
   "id": "ca0ef40a",
   "metadata": {},
   "outputs": [],
   "source": [
    "union = pd.merge(pasajeros, vuelos, left_on = \"ID_Pasajero\", right_on = \"Cve_Cliente\", how = \"inner\")"
   ]
  },
  {
   "cell_type": "code",
   "execution_count": 204,
   "id": "8f726ddd",
   "metadata": {},
   "outputs": [
    {
     "data": {
      "text/html": [
       "<div>\n",
       "<style scoped>\n",
       "    .dataframe tbody tr th:only-of-type {\n",
       "        vertical-align: middle;\n",
       "    }\n",
       "\n",
       "    .dataframe tbody tr th {\n",
       "        vertical-align: top;\n",
       "    }\n",
       "\n",
       "    .dataframe thead th {\n",
       "        text-align: right;\n",
       "    }\n",
       "</style>\n",
       "<table border=\"1\" class=\"dataframe\">\n",
       "  <thead>\n",
       "    <tr style=\"text-align: right;\">\n",
       "      <th></th>\n",
       "      <th>ID_Pasajero</th>\n",
       "      <th>Pasajero</th>\n",
       "      <th>Edad</th>\n",
       "      <th>Cve_LA</th>\n",
       "      <th>Viaje</th>\n",
       "      <th>Clase</th>\n",
       "      <th>Precio</th>\n",
       "      <th>Ruta</th>\n",
       "      <th>Cve_Cliente</th>\n",
       "    </tr>\n",
       "  </thead>\n",
       "  <tbody>\n",
       "    <tr>\n",
       "      <th>0</th>\n",
       "      <td>576</td>\n",
       "      <td>Danielle Thompson</td>\n",
       "      <td>60</td>\n",
       "      <td>AM</td>\n",
       "      <td>1/5/2016</td>\n",
       "      <td>Economy</td>\n",
       "      <td>252</td>\n",
       "      <td>DAL-SLC</td>\n",
       "      <td>576</td>\n",
       "    </tr>\n",
       "    <tr>\n",
       "      <th>1</th>\n",
       "      <td>576</td>\n",
       "      <td>Danielle Thompson</td>\n",
       "      <td>60</td>\n",
       "      <td>AM</td>\n",
       "      <td>11/25/2016</td>\n",
       "      <td>Business</td>\n",
       "      <td>269</td>\n",
       "      <td>DAL-TUL</td>\n",
       "      <td>576</td>\n",
       "    </tr>\n",
       "    <tr>\n",
       "      <th>2</th>\n",
       "      <td>576</td>\n",
       "      <td>Danielle Thompson</td>\n",
       "      <td>60</td>\n",
       "      <td>AA</td>\n",
       "      <td>9/6/2016</td>\n",
       "      <td>Business</td>\n",
       "      <td>186</td>\n",
       "      <td>DAL-AMA</td>\n",
       "      <td>576</td>\n",
       "    </tr>\n",
       "    <tr>\n",
       "      <th>3</th>\n",
       "      <td>576</td>\n",
       "      <td>Danielle Thompson</td>\n",
       "      <td>60</td>\n",
       "      <td>SW</td>\n",
       "      <td>4/22/2016</td>\n",
       "      <td>Economy</td>\n",
       "      <td>201</td>\n",
       "      <td>DAL-PHX</td>\n",
       "      <td>576</td>\n",
       "    </tr>\n",
       "    <tr>\n",
       "      <th>4</th>\n",
       "      <td>579</td>\n",
       "      <td>Natalie Cuevas</td>\n",
       "      <td>49</td>\n",
       "      <td>AV</td>\n",
       "      <td>5/13/2016</td>\n",
       "      <td>Economy</td>\n",
       "      <td>267</td>\n",
       "      <td>DAL-OKC</td>\n",
       "      <td>579</td>\n",
       "    </tr>\n",
       "    <tr>\n",
       "      <th>...</th>\n",
       "      <td>...</td>\n",
       "      <td>...</td>\n",
       "      <td>...</td>\n",
       "      <td>...</td>\n",
       "      <td>...</td>\n",
       "      <td>...</td>\n",
       "      <td>...</td>\n",
       "      <td>...</td>\n",
       "      <td>...</td>\n",
       "    </tr>\n",
       "    <tr>\n",
       "      <th>361</th>\n",
       "      <td>715</td>\n",
       "      <td>Justin Martin</td>\n",
       "      <td>48</td>\n",
       "      <td>SW</td>\n",
       "      <td>10/24/2017</td>\n",
       "      <td>First Class</td>\n",
       "      <td>204</td>\n",
       "      <td>DAL-ATL</td>\n",
       "      <td>715</td>\n",
       "    </tr>\n",
       "    <tr>\n",
       "      <th>362</th>\n",
       "      <td>715</td>\n",
       "      <td>Justin Martin</td>\n",
       "      <td>48</td>\n",
       "      <td>SW</td>\n",
       "      <td>11/14/2017</td>\n",
       "      <td>Economy</td>\n",
       "      <td>167</td>\n",
       "      <td>DAL-AUS</td>\n",
       "      <td>715</td>\n",
       "    </tr>\n",
       "    <tr>\n",
       "      <th>363</th>\n",
       "      <td>715</td>\n",
       "      <td>Justin Martin</td>\n",
       "      <td>48</td>\n",
       "      <td>AM</td>\n",
       "      <td>11/16/2017</td>\n",
       "      <td>First Class</td>\n",
       "      <td>81</td>\n",
       "      <td>DAL-ATL</td>\n",
       "      <td>715</td>\n",
       "    </tr>\n",
       "    <tr>\n",
       "      <th>364</th>\n",
       "      <td>715</td>\n",
       "      <td>Justin Martin</td>\n",
       "      <td>48</td>\n",
       "      <td>SW</td>\n",
       "      <td>11/24/2017</td>\n",
       "      <td>First Class</td>\n",
       "      <td>210</td>\n",
       "      <td>DAL-OKC</td>\n",
       "      <td>715</td>\n",
       "    </tr>\n",
       "    <tr>\n",
       "      <th>365</th>\n",
       "      <td>715</td>\n",
       "      <td>Justin Martin</td>\n",
       "      <td>48</td>\n",
       "      <td>AA</td>\n",
       "      <td>2/4/2017</td>\n",
       "      <td>Business</td>\n",
       "      <td>79</td>\n",
       "      <td>DAL-AUS</td>\n",
       "      <td>715</td>\n",
       "    </tr>\n",
       "  </tbody>\n",
       "</table>\n",
       "<p>366 rows × 9 columns</p>\n",
       "</div>"
      ],
      "text/plain": [
       "     ID_Pasajero           Pasajero  Edad Cve_LA       Viaje        Clase  \\\n",
       "0            576  Danielle Thompson    60     AM    1/5/2016      Economy   \n",
       "1            576  Danielle Thompson    60     AM  11/25/2016     Business   \n",
       "2            576  Danielle Thompson    60     AA    9/6/2016     Business   \n",
       "3            576  Danielle Thompson    60     SW   4/22/2016      Economy   \n",
       "4            579     Natalie Cuevas    49     AV   5/13/2016      Economy   \n",
       "..           ...                ...   ...    ...         ...          ...   \n",
       "361          715      Justin Martin    48     SW  10/24/2017  First Class   \n",
       "362          715      Justin Martin    48     SW  11/14/2017      Economy   \n",
       "363          715      Justin Martin    48     AM  11/16/2017  First Class   \n",
       "364          715      Justin Martin    48     SW  11/24/2017  First Class   \n",
       "365          715      Justin Martin    48     AA    2/4/2017     Business   \n",
       "\n",
       "     Precio     Ruta  Cve_Cliente  \n",
       "0       252  DAL-SLC          576  \n",
       "1       269  DAL-TUL          576  \n",
       "2       186  DAL-AMA          576  \n",
       "3       201  DAL-PHX          576  \n",
       "4       267  DAL-OKC          579  \n",
       "..      ...      ...          ...  \n",
       "361     204  DAL-ATL          715  \n",
       "362     167  DAL-AUS          715  \n",
       "363      81  DAL-ATL          715  \n",
       "364     210  DAL-OKC          715  \n",
       "365      79  DAL-AUS          715  \n",
       "\n",
       "[366 rows x 9 columns]"
      ]
     },
     "execution_count": 204,
     "metadata": {},
     "output_type": "execute_result"
    }
   ],
   "source": [
    "union"
   ]
  },
  {
   "cell_type": "code",
   "execution_count": 205,
   "id": "4cde69fb",
   "metadata": {},
   "outputs": [
    {
     "data": {
      "text/html": [
       "<div>\n",
       "<style scoped>\n",
       "    .dataframe tbody tr th:only-of-type {\n",
       "        vertical-align: middle;\n",
       "    }\n",
       "\n",
       "    .dataframe tbody tr th {\n",
       "        vertical-align: top;\n",
       "    }\n",
       "\n",
       "    .dataframe thead th {\n",
       "        text-align: right;\n",
       "    }\n",
       "</style>\n",
       "<table border=\"1\" class=\"dataframe\">\n",
       "  <thead>\n",
       "    <tr style=\"text-align: right;\">\n",
       "      <th></th>\n",
       "      <th>columna</th>\n",
       "      <th>total</th>\n",
       "      <th>completitud</th>\n",
       "    </tr>\n",
       "  </thead>\n",
       "  <tbody>\n",
       "    <tr>\n",
       "      <th>0</th>\n",
       "      <td>ID_Pasajero</td>\n",
       "      <td>0</td>\n",
       "      <td>100.0</td>\n",
       "    </tr>\n",
       "    <tr>\n",
       "      <th>1</th>\n",
       "      <td>Pasajero</td>\n",
       "      <td>0</td>\n",
       "      <td>100.0</td>\n",
       "    </tr>\n",
       "    <tr>\n",
       "      <th>2</th>\n",
       "      <td>Edad</td>\n",
       "      <td>0</td>\n",
       "      <td>100.0</td>\n",
       "    </tr>\n",
       "    <tr>\n",
       "      <th>3</th>\n",
       "      <td>Cve_LA</td>\n",
       "      <td>0</td>\n",
       "      <td>100.0</td>\n",
       "    </tr>\n",
       "    <tr>\n",
       "      <th>4</th>\n",
       "      <td>Viaje</td>\n",
       "      <td>0</td>\n",
       "      <td>100.0</td>\n",
       "    </tr>\n",
       "    <tr>\n",
       "      <th>5</th>\n",
       "      <td>Clase</td>\n",
       "      <td>0</td>\n",
       "      <td>100.0</td>\n",
       "    </tr>\n",
       "    <tr>\n",
       "      <th>6</th>\n",
       "      <td>Precio</td>\n",
       "      <td>0</td>\n",
       "      <td>100.0</td>\n",
       "    </tr>\n",
       "    <tr>\n",
       "      <th>7</th>\n",
       "      <td>Ruta</td>\n",
       "      <td>0</td>\n",
       "      <td>100.0</td>\n",
       "    </tr>\n",
       "    <tr>\n",
       "      <th>8</th>\n",
       "      <td>Cve_Cliente</td>\n",
       "      <td>0</td>\n",
       "      <td>100.0</td>\n",
       "    </tr>\n",
       "  </tbody>\n",
       "</table>\n",
       "</div>"
      ],
      "text/plain": [
       "       columna  total  completitud\n",
       "0  ID_Pasajero      0        100.0\n",
       "1     Pasajero      0        100.0\n",
       "2         Edad      0        100.0\n",
       "3       Cve_LA      0        100.0\n",
       "4        Viaje      0        100.0\n",
       "5        Clase      0        100.0\n",
       "6       Precio      0        100.0\n",
       "7         Ruta      0        100.0\n",
       "8  Cve_Cliente      0        100.0"
      ]
     },
     "execution_count": 205,
     "metadata": {},
     "output_type": "execute_result"
    }
   ],
   "source": [
    "completitud(union)"
   ]
  },
  {
   "cell_type": "markdown",
   "id": "bc1e7a65",
   "metadata": {},
   "source": [
    "como eliminamos de la tabla de pasajeros los id repetidos, vamos a eliminar de la tabla vuelos, los registros que tengan esos id"
   ]
  },
  {
   "cell_type": "code",
   "execution_count": 199,
   "id": "b7bf3ef8",
   "metadata": {},
   "outputs": [
    {
     "data": {
      "text/plain": [
       "366"
      ]
     },
     "execution_count": 199,
     "metadata": {},
     "output_type": "execute_result"
    }
   ],
   "source": [
    "len(union)"
   ]
  },
  {
   "cell_type": "markdown",
   "id": "026b10c5",
   "metadata": {},
   "source": [
    "Ahora vamos a unir la tabla anterior (union) con la tabla de lineas aereas usando la columna de \"Cva_LA\" y Code mediante un merge  con inner para que nos traiga los elementos que encuentre en ambas tablas"
   ]
  },
  {
   "cell_type": "code",
   "execution_count": 207,
   "id": "c8333c3f",
   "metadata": {},
   "outputs": [
    {
     "data": {
      "text/html": [
       "<div>\n",
       "<style scoped>\n",
       "    .dataframe tbody tr th:only-of-type {\n",
       "        vertical-align: middle;\n",
       "    }\n",
       "\n",
       "    .dataframe tbody tr th {\n",
       "        vertical-align: top;\n",
       "    }\n",
       "\n",
       "    .dataframe thead th {\n",
       "        text-align: right;\n",
       "    }\n",
       "</style>\n",
       "<table border=\"1\" class=\"dataframe\">\n",
       "  <thead>\n",
       "    <tr style=\"text-align: right;\">\n",
       "      <th></th>\n",
       "      <th>Code</th>\n",
       "      <th>Linea_Aerea</th>\n",
       "    </tr>\n",
       "  </thead>\n",
       "  <tbody>\n",
       "    <tr>\n",
       "      <th>0</th>\n",
       "      <td>AA</td>\n",
       "      <td>American Airlines</td>\n",
       "    </tr>\n",
       "    <tr>\n",
       "      <th>1</th>\n",
       "      <td>SW</td>\n",
       "      <td>Southwest</td>\n",
       "    </tr>\n",
       "    <tr>\n",
       "      <th>2</th>\n",
       "      <td>AM</td>\n",
       "      <td>Aeromexico</td>\n",
       "    </tr>\n",
       "    <tr>\n",
       "      <th>3</th>\n",
       "      <td>AV</td>\n",
       "      <td>Avianca</td>\n",
       "    </tr>\n",
       "    <tr>\n",
       "      <th>4</th>\n",
       "      <td>KL</td>\n",
       "      <td>KLM</td>\n",
       "    </tr>\n",
       "  </tbody>\n",
       "</table>\n",
       "</div>"
      ],
      "text/plain": [
       "  Code        Linea_Aerea\n",
       "0   AA  American Airlines\n",
       "1   SW          Southwest\n",
       "2   AM         Aeromexico\n",
       "3   AV            Avianca\n",
       "4   KL                KLM"
      ]
     },
     "execution_count": 207,
     "metadata": {},
     "output_type": "execute_result"
    }
   ],
   "source": [
    "dataframes[4]"
   ]
  },
  {
   "cell_type": "code",
   "execution_count": 233,
   "id": "7fa6b379",
   "metadata": {},
   "outputs": [],
   "source": [
    "union = pd.merge(union, dataframes[4], left_on = \"Cve_LA\", right_on = \"Code\", how = \"inner\")"
   ]
  },
  {
   "cell_type": "code",
   "execution_count": 215,
   "id": "4749f541",
   "metadata": {},
   "outputs": [
    {
     "data": {
      "text/html": [
       "<div>\n",
       "<style scoped>\n",
       "    .dataframe tbody tr th:only-of-type {\n",
       "        vertical-align: middle;\n",
       "    }\n",
       "\n",
       "    .dataframe tbody tr th {\n",
       "        vertical-align: top;\n",
       "    }\n",
       "\n",
       "    .dataframe thead th {\n",
       "        text-align: right;\n",
       "    }\n",
       "</style>\n",
       "<table border=\"1\" class=\"dataframe\">\n",
       "  <thead>\n",
       "    <tr style=\"text-align: right;\">\n",
       "      <th></th>\n",
       "      <th>ID_Pasajero</th>\n",
       "      <th>Pasajero</th>\n",
       "      <th>Edad</th>\n",
       "      <th>Cve_LA</th>\n",
       "      <th>Viaje</th>\n",
       "      <th>Clase</th>\n",
       "      <th>Precio</th>\n",
       "      <th>Ruta</th>\n",
       "      <th>Cve_Cliente</th>\n",
       "      <th>Code</th>\n",
       "      <th>Linea_Aerea</th>\n",
       "    </tr>\n",
       "  </thead>\n",
       "  <tbody>\n",
       "    <tr>\n",
       "      <th>0</th>\n",
       "      <td>576</td>\n",
       "      <td>Danielle Thompson</td>\n",
       "      <td>60</td>\n",
       "      <td>AM</td>\n",
       "      <td>1/5/2016</td>\n",
       "      <td>Economy</td>\n",
       "      <td>252</td>\n",
       "      <td>DAL-SLC</td>\n",
       "      <td>576</td>\n",
       "      <td>AM</td>\n",
       "      <td>Aeromexico</td>\n",
       "    </tr>\n",
       "    <tr>\n",
       "      <th>1</th>\n",
       "      <td>576</td>\n",
       "      <td>Danielle Thompson</td>\n",
       "      <td>60</td>\n",
       "      <td>AM</td>\n",
       "      <td>11/25/2016</td>\n",
       "      <td>Business</td>\n",
       "      <td>269</td>\n",
       "      <td>DAL-TUL</td>\n",
       "      <td>576</td>\n",
       "      <td>AM</td>\n",
       "      <td>Aeromexico</td>\n",
       "    </tr>\n",
       "  </tbody>\n",
       "</table>\n",
       "</div>"
      ],
      "text/plain": [
       "   ID_Pasajero           Pasajero  Edad Cve_LA       Viaje     Clase  Precio  \\\n",
       "0          576  Danielle Thompson    60     AM    1/5/2016   Economy     252   \n",
       "1          576  Danielle Thompson    60     AM  11/25/2016  Business     269   \n",
       "\n",
       "      Ruta  Cve_Cliente Code Linea_Aerea  \n",
       "0  DAL-SLC          576   AM  Aeromexico  \n",
       "1  DAL-TUL          576   AM  Aeromexico  "
      ]
     },
     "execution_count": 215,
     "metadata": {},
     "output_type": "execute_result"
    }
   ],
   "source": [
    "union.head(2)"
   ]
  },
  {
   "cell_type": "markdown",
   "id": "da8f5443",
   "metadata": {},
   "source": [
    "como la cantidad de registros disminuyò, podemos decir que o el catàlogo no està completo o que la clave en la tabla de vuelos està mal escrita"
   ]
  },
  {
   "cell_type": "markdown",
   "id": "e783fc37",
   "metadata": {},
   "source": [
    "# Columnas importantes:"
   ]
  },
  {
   "cell_type": "markdown",
   "id": "a26b60f3",
   "metadata": {},
   "source": [
    "Hay que seleccionar del df union las columnas que nos interesan y lo vamos a guardar en el mismo df union"
   ]
  },
  {
   "cell_type": "code",
   "execution_count": 234,
   "id": "3ff36453",
   "metadata": {},
   "outputs": [
    {
     "data": {
      "text/html": [
       "<div>\n",
       "<style scoped>\n",
       "    .dataframe tbody tr th:only-of-type {\n",
       "        vertical-align: middle;\n",
       "    }\n",
       "\n",
       "    .dataframe tbody tr th {\n",
       "        vertical-align: top;\n",
       "    }\n",
       "\n",
       "    .dataframe thead th {\n",
       "        text-align: right;\n",
       "    }\n",
       "</style>\n",
       "<table border=\"1\" class=\"dataframe\">\n",
       "  <thead>\n",
       "    <tr style=\"text-align: right;\">\n",
       "      <th></th>\n",
       "      <th>Viaje</th>\n",
       "      <th>Clase</th>\n",
       "      <th>Precio</th>\n",
       "      <th>Ruta</th>\n",
       "      <th>Edad</th>\n",
       "      <th>Linea_Aerea</th>\n",
       "    </tr>\n",
       "  </thead>\n",
       "  <tbody>\n",
       "    <tr>\n",
       "      <th>0</th>\n",
       "      <td>1/5/2016</td>\n",
       "      <td>Economy</td>\n",
       "      <td>252</td>\n",
       "      <td>DAL-SLC</td>\n",
       "      <td>60</td>\n",
       "      <td>Aeromexico</td>\n",
       "    </tr>\n",
       "    <tr>\n",
       "      <th>1</th>\n",
       "      <td>11/25/2016</td>\n",
       "      <td>Business</td>\n",
       "      <td>269</td>\n",
       "      <td>DAL-TUL</td>\n",
       "      <td>60</td>\n",
       "      <td>Aeromexico</td>\n",
       "    </tr>\n",
       "    <tr>\n",
       "      <th>2</th>\n",
       "      <td>1/27/2016</td>\n",
       "      <td>First Class</td>\n",
       "      <td>190</td>\n",
       "      <td>DAL-OKC</td>\n",
       "      <td>28</td>\n",
       "      <td>Aeromexico</td>\n",
       "    </tr>\n",
       "    <tr>\n",
       "      <th>3</th>\n",
       "      <td>11/13/2016</td>\n",
       "      <td>Business</td>\n",
       "      <td>142</td>\n",
       "      <td>DAL-OKC</td>\n",
       "      <td>40</td>\n",
       "      <td>Aeromexico</td>\n",
       "    </tr>\n",
       "    <tr>\n",
       "      <th>4</th>\n",
       "      <td>11/3/2016</td>\n",
       "      <td>Business</td>\n",
       "      <td>56</td>\n",
       "      <td>DAL-TUL</td>\n",
       "      <td>40</td>\n",
       "      <td>Aeromexico</td>\n",
       "    </tr>\n",
       "    <tr>\n",
       "      <th>...</th>\n",
       "      <td>...</td>\n",
       "      <td>...</td>\n",
       "      <td>...</td>\n",
       "      <td>...</td>\n",
       "      <td>...</td>\n",
       "      <td>...</td>\n",
       "    </tr>\n",
       "    <tr>\n",
       "      <th>346</th>\n",
       "      <td>7/24/2017</td>\n",
       "      <td>First Class</td>\n",
       "      <td>214</td>\n",
       "      <td>DAL-ATL</td>\n",
       "      <td>46</td>\n",
       "      <td>KLM</td>\n",
       "    </tr>\n",
       "    <tr>\n",
       "      <th>347</th>\n",
       "      <td>8/2/2017</td>\n",
       "      <td>Business</td>\n",
       "      <td>121</td>\n",
       "      <td>DAL-AMA</td>\n",
       "      <td>46</td>\n",
       "      <td>KLM</td>\n",
       "    </tr>\n",
       "    <tr>\n",
       "      <th>348</th>\n",
       "      <td>8/11/2017</td>\n",
       "      <td>First Class</td>\n",
       "      <td>204</td>\n",
       "      <td>DAL-AMA</td>\n",
       "      <td>46</td>\n",
       "      <td>KLM</td>\n",
       "    </tr>\n",
       "    <tr>\n",
       "      <th>349</th>\n",
       "      <td>3/14/2017</td>\n",
       "      <td>Economy</td>\n",
       "      <td>73</td>\n",
       "      <td>DAL-PHX</td>\n",
       "      <td>55</td>\n",
       "      <td>KLM</td>\n",
       "    </tr>\n",
       "    <tr>\n",
       "      <th>350</th>\n",
       "      <td>6/17/2017</td>\n",
       "      <td>Business</td>\n",
       "      <td>123</td>\n",
       "      <td>DAL-TUL</td>\n",
       "      <td>55</td>\n",
       "      <td>KLM</td>\n",
       "    </tr>\n",
       "  </tbody>\n",
       "</table>\n",
       "<p>351 rows × 6 columns</p>\n",
       "</div>"
      ],
      "text/plain": [
       "          Viaje        Clase  Precio     Ruta  Edad Linea_Aerea\n",
       "0      1/5/2016      Economy     252  DAL-SLC    60  Aeromexico\n",
       "1    11/25/2016     Business     269  DAL-TUL    60  Aeromexico\n",
       "2     1/27/2016  First Class     190  DAL-OKC    28  Aeromexico\n",
       "3    11/13/2016     Business     142  DAL-OKC    40  Aeromexico\n",
       "4     11/3/2016     Business      56  DAL-TUL    40  Aeromexico\n",
       "..          ...          ...     ...      ...   ...         ...\n",
       "346   7/24/2017  First Class     214  DAL-ATL    46         KLM\n",
       "347    8/2/2017     Business     121  DAL-AMA    46         KLM\n",
       "348   8/11/2017  First Class     204  DAL-AMA    46         KLM\n",
       "349   3/14/2017      Economy      73  DAL-PHX    55         KLM\n",
       "350   6/17/2017     Business     123  DAL-TUL    55         KLM\n",
       "\n",
       "[351 rows x 6 columns]"
      ]
     },
     "execution_count": 234,
     "metadata": {},
     "output_type": "execute_result"
    }
   ],
   "source": [
    "union = union[[\"Viaje\", \"Clase\",\"Precio\", \"Ruta\", \"Edad\", \"Linea_Aerea\"]]\n",
    "union\n"
   ]
  },
  {
   "cell_type": "markdown",
   "id": "e0a20076",
   "metadata": {},
   "source": [
    "## <h1 style=\"color:orange\"> 5) Promedio  </h1> "
   ]
  },
  {
   "cell_type": "markdown",
   "id": "80f493f3",
   "metadata": {},
   "source": [
    "Primero con la columna Viaje, que es la fecha del vuelo, vamos a obtener el año y el semestre:"
   ]
  },
  {
   "cell_type": "markdown",
   "id": "3101d199",
   "metadata": {},
   "source": [
    "Vamos a revisar el tipo de dato de la columna Viaje:"
   ]
  },
  {
   "cell_type": "code",
   "execution_count": 235,
   "id": "d0a94b2a",
   "metadata": {},
   "outputs": [
    {
     "data": {
      "text/plain": [
       "dtype('O')"
      ]
     },
     "execution_count": 235,
     "metadata": {},
     "output_type": "execute_result"
    }
   ],
   "source": [
    "union[\"Viaje\"].dtype"
   ]
  },
  {
   "cell_type": "code",
   "execution_count": 236,
   "id": "7b472c05",
   "metadata": {},
   "outputs": [
    {
     "data": {
      "text/html": [
       "<div>\n",
       "<style scoped>\n",
       "    .dataframe tbody tr th:only-of-type {\n",
       "        vertical-align: middle;\n",
       "    }\n",
       "\n",
       "    .dataframe tbody tr th {\n",
       "        vertical-align: top;\n",
       "    }\n",
       "\n",
       "    .dataframe thead th {\n",
       "        text-align: right;\n",
       "    }\n",
       "</style>\n",
       "<table border=\"1\" class=\"dataframe\">\n",
       "  <thead>\n",
       "    <tr style=\"text-align: right;\">\n",
       "      <th></th>\n",
       "      <th>Viaje</th>\n",
       "      <th>Clase</th>\n",
       "      <th>Precio</th>\n",
       "      <th>Ruta</th>\n",
       "      <th>Edad</th>\n",
       "      <th>Linea_Aerea</th>\n",
       "    </tr>\n",
       "  </thead>\n",
       "  <tbody>\n",
       "    <tr>\n",
       "      <th>0</th>\n",
       "      <td>1/5/2016</td>\n",
       "      <td>Economy</td>\n",
       "      <td>252</td>\n",
       "      <td>DAL-SLC</td>\n",
       "      <td>60</td>\n",
       "      <td>Aeromexico</td>\n",
       "    </tr>\n",
       "    <tr>\n",
       "      <th>1</th>\n",
       "      <td>11/25/2016</td>\n",
       "      <td>Business</td>\n",
       "      <td>269</td>\n",
       "      <td>DAL-TUL</td>\n",
       "      <td>60</td>\n",
       "      <td>Aeromexico</td>\n",
       "    </tr>\n",
       "    <tr>\n",
       "      <th>2</th>\n",
       "      <td>1/27/2016</td>\n",
       "      <td>First Class</td>\n",
       "      <td>190</td>\n",
       "      <td>DAL-OKC</td>\n",
       "      <td>28</td>\n",
       "      <td>Aeromexico</td>\n",
       "    </tr>\n",
       "    <tr>\n",
       "      <th>3</th>\n",
       "      <td>11/13/2016</td>\n",
       "      <td>Business</td>\n",
       "      <td>142</td>\n",
       "      <td>DAL-OKC</td>\n",
       "      <td>40</td>\n",
       "      <td>Aeromexico</td>\n",
       "    </tr>\n",
       "    <tr>\n",
       "      <th>4</th>\n",
       "      <td>11/3/2016</td>\n",
       "      <td>Business</td>\n",
       "      <td>56</td>\n",
       "      <td>DAL-TUL</td>\n",
       "      <td>40</td>\n",
       "      <td>Aeromexico</td>\n",
       "    </tr>\n",
       "  </tbody>\n",
       "</table>\n",
       "</div>"
      ],
      "text/plain": [
       "        Viaje        Clase  Precio     Ruta  Edad Linea_Aerea\n",
       "0    1/5/2016      Economy     252  DAL-SLC    60  Aeromexico\n",
       "1  11/25/2016     Business     269  DAL-TUL    60  Aeromexico\n",
       "2   1/27/2016  First Class     190  DAL-OKC    28  Aeromexico\n",
       "3  11/13/2016     Business     142  DAL-OKC    40  Aeromexico\n",
       "4   11/3/2016     Business      56  DAL-TUL    40  Aeromexico"
      ]
     },
     "execution_count": 236,
     "metadata": {},
     "output_type": "execute_result"
    }
   ],
   "source": [
    "union.head()"
   ]
  },
  {
   "cell_type": "code",
   "execution_count": 238,
   "id": "1f5edeee",
   "metadata": {},
   "outputs": [],
   "source": [
    "union[\"Viaje\"]=pd.to_datetime(union[\"Viaje\"],format=\"%m/%d/%Y\")"
   ]
  },
  {
   "cell_type": "code",
   "execution_count": 239,
   "id": "bced724b",
   "metadata": {},
   "outputs": [
    {
     "data": {
      "text/plain": [
       "dtype('<M8[ns]')"
      ]
     },
     "execution_count": 239,
     "metadata": {},
     "output_type": "execute_result"
    }
   ],
   "source": [
    "union[\"Viaje\"].dtype"
   ]
  },
  {
   "cell_type": "code",
   "execution_count": 263,
   "id": "00121fa8",
   "metadata": {},
   "outputs": [],
   "source": [
    "union[\"semestre\"]=union[\"Viaje\"].map(lambda x: x.month)\n",
    "union[\"year\"]=union[\"Viaje\"].map(lambda x: x.year)"
   ]
  },
  {
   "cell_type": "code",
   "execution_count": 264,
   "id": "92a4dca0",
   "metadata": {},
   "outputs": [],
   "source": [
    "union[\"semestre\"]=union[\"semestre\"].map( lambda x: 1 if x<=6 else 2)"
   ]
  },
  {
   "cell_type": "code",
   "execution_count": 265,
   "id": "e46ed4af",
   "metadata": {},
   "outputs": [
    {
     "data": {
      "text/html": [
       "<div>\n",
       "<style scoped>\n",
       "    .dataframe tbody tr th:only-of-type {\n",
       "        vertical-align: middle;\n",
       "    }\n",
       "\n",
       "    .dataframe tbody tr th {\n",
       "        vertical-align: top;\n",
       "    }\n",
       "\n",
       "    .dataframe thead th {\n",
       "        text-align: right;\n",
       "    }\n",
       "</style>\n",
       "<table border=\"1\" class=\"dataframe\">\n",
       "  <thead>\n",
       "    <tr style=\"text-align: right;\">\n",
       "      <th></th>\n",
       "      <th>Viaje</th>\n",
       "      <th>Clase</th>\n",
       "      <th>Precio</th>\n",
       "      <th>Ruta</th>\n",
       "      <th>Edad</th>\n",
       "      <th>Linea_Aerea</th>\n",
       "      <th>semestre</th>\n",
       "      <th>year</th>\n",
       "    </tr>\n",
       "  </thead>\n",
       "  <tbody>\n",
       "    <tr>\n",
       "      <th>0</th>\n",
       "      <td>2016-01-05</td>\n",
       "      <td>Economy</td>\n",
       "      <td>252</td>\n",
       "      <td>DAL-SLC</td>\n",
       "      <td>60</td>\n",
       "      <td>Aeromexico</td>\n",
       "      <td>1</td>\n",
       "      <td>2016</td>\n",
       "    </tr>\n",
       "    <tr>\n",
       "      <th>1</th>\n",
       "      <td>2016-11-25</td>\n",
       "      <td>Business</td>\n",
       "      <td>269</td>\n",
       "      <td>DAL-TUL</td>\n",
       "      <td>60</td>\n",
       "      <td>Aeromexico</td>\n",
       "      <td>2</td>\n",
       "      <td>2016</td>\n",
       "    </tr>\n",
       "    <tr>\n",
       "      <th>2</th>\n",
       "      <td>2016-01-27</td>\n",
       "      <td>First Class</td>\n",
       "      <td>190</td>\n",
       "      <td>DAL-OKC</td>\n",
       "      <td>28</td>\n",
       "      <td>Aeromexico</td>\n",
       "      <td>1</td>\n",
       "      <td>2016</td>\n",
       "    </tr>\n",
       "    <tr>\n",
       "      <th>3</th>\n",
       "      <td>2016-11-13</td>\n",
       "      <td>Business</td>\n",
       "      <td>142</td>\n",
       "      <td>DAL-OKC</td>\n",
       "      <td>40</td>\n",
       "      <td>Aeromexico</td>\n",
       "      <td>2</td>\n",
       "      <td>2016</td>\n",
       "    </tr>\n",
       "    <tr>\n",
       "      <th>4</th>\n",
       "      <td>2016-11-03</td>\n",
       "      <td>Business</td>\n",
       "      <td>56</td>\n",
       "      <td>DAL-TUL</td>\n",
       "      <td>40</td>\n",
       "      <td>Aeromexico</td>\n",
       "      <td>2</td>\n",
       "      <td>2016</td>\n",
       "    </tr>\n",
       "  </tbody>\n",
       "</table>\n",
       "</div>"
      ],
      "text/plain": [
       "       Viaje        Clase  Precio     Ruta  Edad Linea_Aerea  semestre  year\n",
       "0 2016-01-05      Economy     252  DAL-SLC    60  Aeromexico         1  2016\n",
       "1 2016-11-25     Business     269  DAL-TUL    60  Aeromexico         2  2016\n",
       "2 2016-01-27  First Class     190  DAL-OKC    28  Aeromexico         1  2016\n",
       "3 2016-11-13     Business     142  DAL-OKC    40  Aeromexico         2  2016\n",
       "4 2016-11-03     Business      56  DAL-TUL    40  Aeromexico         2  2016"
      ]
     },
     "execution_count": 265,
     "metadata": {},
     "output_type": "execute_result"
    }
   ],
   "source": [
    "union.head()"
   ]
  },
  {
   "cell_type": "code",
   "execution_count": 267,
   "id": "90be758d",
   "metadata": {},
   "outputs": [],
   "source": [
    "union = union[[\"Clase\",\"Precio\", \"Ruta\", \"Linea_Aerea\", \"semestre\", \"year\"]]"
   ]
  },
  {
   "cell_type": "code",
   "execution_count": 269,
   "id": "8d7554bc",
   "metadata": {},
   "outputs": [],
   "source": [
    "union = union.groupby([\"Clase\", \"Ruta\", \"Linea_Aerea\", \"semestre\", \"year\"], as_index = False).mean()"
   ]
  }
 ],
 "metadata": {
  "kernelspec": {
   "display_name": "diplomado",
   "language": "python",
   "name": "diplomado"
  },
  "language_info": {
   "codemirror_mode": {
    "name": "ipython",
    "version": 3
   },
   "file_extension": ".py",
   "mimetype": "text/x-python",
   "name": "python",
   "nbconvert_exporter": "python",
   "pygments_lexer": "ipython3",
   "version": "3.8.10"
  }
 },
 "nbformat": 4,
 "nbformat_minor": 5
}
