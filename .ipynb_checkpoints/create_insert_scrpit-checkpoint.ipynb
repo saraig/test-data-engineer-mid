{
 "cells": [
  {
   "cell_type": "code",
   "execution_count": null,
   "id": "fb3069f1",
   "metadata": {},
   "outputs": [],
   "source": [
    "import pandas as pd"
   ]
  },
  {
   "cell_type": "code",
   "execution_count": null,
   "id": "9f39ca79-3dbb-46db-ad0d-dac39225be96",
   "metadata": {},
   "outputs": [],
   "source": [
    "df = pd.read_csv('sitios.csv')\n",
    "table_name = 'sitios'\n",
    "script1 = ''\n",
    "for index, row in df.iterrows():\n",
    "    values = \"\".join([str(r) + \", \" if isinstance(r, (float, int)) else f\"'{str(r)}', \"  for r in row ]).replace('nan', 'null')\n",
    "    script1 += f\"INSERT INTO {table_name} VALUES({values[:-2]});\\n\"\n"
   ]
  },
  {
   "cell_type": "code",
   "execution_count": null,
   "id": "33e5f8a4-a455-4d42-89e5-542e5424f428",
   "metadata": {},
   "outputs": [],
   "source": [
    "df = pd.read_csv('muestas.csv', low_memory=False)\n",
    "table_name = 'muestras'\n",
    "script2 = ''\n",
    "for index, row in df[['CLAVE SITIO', 'CLAVE MONITOREO', 'FECHA REALIZACIÓN', 'Año', 'CO3', 'HCO3', 'OH', 'COT', 'COT_SOL', 'N_NH3', 'N_NO2']].iterrows():\n",
    "    values = \"\".join([str(r) + \", \" if isinstance(r, (float, int)) else f\"'{str(r)}', \"  for r in row ]).replace('nan', 'null')\n",
    "    values = values.replace('<', '').replace('>', '')\n",
    "    script2 += f\"INSERT INTO {table_name} VALUES({values[:-2]});\\n\"\n"
   ]
  },
  {
   "cell_type": "code",
   "execution_count": null,
   "id": "b77b8106-4c72-40ef-afa5-e029adaf4cfe",
   "metadata": {},
   "outputs": [],
   "source": [
    "text_file = open(\"insert.sql\", \"w\")\n",
    "text_file.seek(0)\n",
    "text_file.truncate()\n",
    "text_file.write(script1)\n",
    "text_file.write(script2)\n",
    "text_file.close()"
   ]
  },
  {
   "cell_type": "markdown",
   "id": "7ed786fb",
   "metadata": {},
   "source": [
    "fin"
   ]
  }
 ],
 "metadata": {
  "kernelspec": {
   "display_name": "Python 3 (ipykernel)",
   "language": "python",
   "name": "python3"
  },
  "language_info": {
   "codemirror_mode": {
    "name": "ipython",
    "version": 3
   },
   "file_extension": ".py",
   "mimetype": "text/x-python",
   "name": "python",
   "nbconvert_exporter": "python",
   "pygments_lexer": "ipython3",
   "version": "3.8.10"
  }
 },
 "nbformat": 4,
 "nbformat_minor": 5
}
